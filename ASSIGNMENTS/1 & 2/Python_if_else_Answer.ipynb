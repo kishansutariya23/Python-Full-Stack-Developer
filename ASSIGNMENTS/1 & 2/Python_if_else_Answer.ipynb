{
 "cells": [
  {
   "cell_type": "markdown",
   "metadata": {},
   "source": [
    "#          If else ststement"
   ]
  },
  {
   "cell_type": "markdown",
   "metadata": {},
   "source": [
    "# Q1\n",
    "Check whether the area of the triangle is greater than the perimeter of the triangle length=5 breadth=10 "
   ]
  },
  {
   "cell_type": "markdown",
   "metadata": {},
   "source": [
    "#### Hint: Area of rectangle=length*breadth\n",
    "#### Hint: Perimeter of rectangle=2*(length+breadth)"
   ]
  },
  {
   "cell_type": "code",
   "execution_count": 1,
   "metadata": {},
   "outputs": [
    {
     "name": "stdout",
     "output_type": "stream",
     "text": [
      "AREA OF RECTANGLE IS ==> GREATER\n"
     ]
    }
   ],
   "source": [
    "def areaOfRectangle(l,b):\n",
    "    return l*b\n",
    "def perimeter(l,b):\n",
    "    return 2*(l+b)\n",
    "l=5   #Length\n",
    "b=10  #Breadth\n",
    "if areaOfRectangle(l,b)>perimeter(l,b):\n",
    "    print('AREA OF RECTANGLE IS ==> GREATER')\n",
    "else:\n",
    "    print('PERIMETER OF THE TRIANGLE IS ==> GREATER')\n",
    " "
   ]
  },
  {
   "cell_type": "markdown",
   "metadata": {},
   "source": [
    "# Q2\n",
    "From the age of 3 people determine the oldest person among them"
   ]
  },
  {
   "cell_type": "raw",
   "metadata": {},
   "source": [
    "Age of first person =25\n",
    "Age of second person =34\n",
    "Age of third person =45"
   ]
  },
  {
   "cell_type": "code",
   "execution_count": 2,
   "metadata": {},
   "outputs": [
    {
     "name": "stdout",
     "output_type": "stream",
     "text": [
      "Oldest person is THIRDPERSON\n"
     ]
    }
   ],
   "source": [
    "firstPerson=25\n",
    "secondPerson=34\n",
    "thirdPerson=45\n",
    "if (firstPerson>secondPerson) and (firstPerson>thirdPerson):\n",
    "    print('Oldest person is FIRSTPERSON')\n",
    "elif (secondPerson>firstPerson) and (secondPerson>thirdPerson):\n",
    "    print('Oldest person is SECONDPERSON')\n",
    "else:\n",
    "    print('Oldest person is THIRDPERSON')"
   ]
  },
  {
   "cell_type": "markdown",
   "metadata": {},
   "source": [
    "# Q3\n",
    "write a Python program to divide them into three groups. Based on the user age\n"
   ]
  },
  {
   "cell_type": "raw",
   "metadata": {},
   "source": [
    "Group 1: Age<18, Minor who are not eligible to work\n",
    "Group 2: 18<Age<60, Eligible to work\n",
    "Group 3: >60, Too old to work as per govt.regulation"
   ]
  },
  {
   "cell_type": "code",
   "execution_count": 3,
   "metadata": {},
   "outputs": [
    {
     "name": "stdout",
     "output_type": "stream",
     "text": [
      "Enter your Age:-23\n",
      "Eligible to work\n"
     ]
    }
   ],
   "source": [
    "Age=int(input('Enter your Age:-'))\n",
    "if Age<18:\n",
    "    print('Minor who are not eligible to work')\n",
    "elif 18<Age<60:\n",
    "    print('Eligible to work')\n",
    "else:\n",
    "    print('>60, Too old to work as per govt.regulation')"
   ]
  },
  {
   "cell_type": "markdown",
   "metadata": {},
   "source": [
    "# Q4\n",
    "Write a Python program to check whether an alphabet is a vowel or consonant"
   ]
  },
  {
   "cell_type": "raw",
   "metadata": {},
   "source": [
    "# sample TestCase\n",
    "input  : k\n",
    "output : consonant"
   ]
  },
  {
   "cell_type": "code",
   "execution_count": 4,
   "metadata": {},
   "outputs": [
    {
     "name": "stdout",
     "output_type": "stream",
     "text": [
      "enter Input:-k\n",
      "consonant\n"
     ]
    }
   ],
   "source": [
    "input1=input('enter Input:-')\n",
    "l=['a','e','i','o','u','A','E','I','O','U']\n",
    "if input1 in l:\n",
    "    print('vowel')\n",
    "else:\n",
    "    print('consonant')"
   ]
  },
  {
   "cell_type": "markdown",
   "metadata": {},
   "source": [
    "# Q5\n",
    "A company decided to give bonus of 5% to employee if his/her year of serrvice is mor than 5 years"
   ]
  },
  {
   "cell_type": "raw",
   "metadata": {},
   "source": [
    "# sample TestCase\n",
    "\n",
    "input : salary=102893\n",
    "        year =6\n",
    "output : 108037.65"
   ]
  },
  {
   "cell_type": "code",
   "execution_count": 5,
   "metadata": {},
   "outputs": [
    {
     "name": "stdout",
     "output_type": "stream",
     "text": [
      "salary:-102893\n",
      "year:-6\n",
      "108037.65\n"
     ]
    }
   ],
   "source": [
    "salary=int(input('salary:-'))\n",
    "year=int(input('year:-'))\n",
    "if year >5:\n",
    "    print(salary+salary*5/100)\n",
    "else:\n",
    "    print('Service is less than 5 Years')"
   ]
  },
  {
   "cell_type": "code",
   "execution_count": null,
   "metadata": {},
   "outputs": [],
   "source": []
  }
 ],
 "metadata": {
  "kernelspec": {
   "display_name": "Python 3",
   "language": "python",
   "name": "python3"
  },
  "language_info": {
   "codemirror_mode": {
    "name": "ipython",
    "version": 3
   },
   "file_extension": ".py",
   "mimetype": "text/x-python",
   "name": "python",
   "nbconvert_exporter": "python",
   "pygments_lexer": "ipython3",
   "version": "3.8.5"
  }
 },
 "nbformat": 4,
 "nbformat_minor": 4
}
