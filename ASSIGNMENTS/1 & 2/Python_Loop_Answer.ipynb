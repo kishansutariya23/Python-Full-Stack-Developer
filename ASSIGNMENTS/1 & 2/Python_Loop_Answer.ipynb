{
 "cells": [
  {
   "cell_type": "markdown",
   "metadata": {},
   "source": [
    "# For Loop"
   ]
  },
  {
   "cell_type": "markdown",
   "metadata": {},
   "source": [
    "# Q1\n",
    "write a python program to reverse string without using slicing"
   ]
  },
  {
   "cell_type": "raw",
   "metadata": {},
   "source": [
    "Sample TestCase:\n",
    "Input  : Pentagon Space\n",
    "output : ecapS nogatneP"
   ]
  },
  {
   "cell_type": "code",
   "execution_count": 1,
   "metadata": {},
   "outputs": [
    {
     "name": "stdout",
     "output_type": "stream",
     "text": [
      "Pentagon Space\n",
      "ecapS nogatneP\n"
     ]
    }
   ],
   "source": [
    "input1=input()\n",
    "output1=''\n",
    "for i in  input1:\n",
    "    output1=i+output1\n",
    "print(output1)    "
   ]
  },
  {
   "cell_type": "markdown",
   "metadata": {},
   "source": [
    "# Q2\n",
    "Write a python program toreverse strating 5 index from string without using slicing"
   ]
  },
  {
   "cell_type": "raw",
   "metadata": {},
   "source": [
    "Sample TestCase:\n",
    "Input   : Pentagon Space\n",
    "Output  : gatnePon Space"
   ]
  },
  {
   "cell_type": "code",
   "execution_count": 2,
   "metadata": {},
   "outputs": [
    {
     "name": "stdout",
     "output_type": "stream",
     "text": [
      "Pentagon Space\n",
      "gatnePon Space\n"
     ]
    }
   ],
   "source": [
    "k=5\n",
    "input2=input()\n",
    "#input2=input()\n",
    "output2=''\n",
    "for i in range(k+1):\n",
    "    output2=input2[i]+output2\n",
    "print(output2+input2[k+1:])"
   ]
  },
  {
   "cell_type": "markdown",
   "metadata": {},
   "source": [
    "# Q3\n",
    "Write a Python program to remove duplicate values from string"
   ]
  },
  {
   "cell_type": "raw",
   "metadata": {},
   "source": [
    "Sample TestCase:\n",
    "\n",
    "Input   :Pentagon Space\n",
    "Output  :Pentago Spc\n"
   ]
  },
  {
   "cell_type": "code",
   "execution_count": 3,
   "metadata": {},
   "outputs": [
    {
     "name": "stdout",
     "output_type": "stream",
     "text": [
      "Pentagon Space\n",
      "Pentago Spc\n"
     ]
    }
   ],
   "source": [
    "#input3=input()\n",
    "input3=input()\n",
    "output3=''\n",
    "#input3=list(input3)\n",
    "\n",
    "for i in input3:\n",
    "    if i in output3:\n",
    "        pass\n",
    "    else:\n",
    "        output3+=i\n",
    "    \n",
    "print(output3)"
   ]
  },
  {
   "cell_type": "markdown",
   "metadata": {},
   "source": [
    "\n",
    "\n",
    "# WHILE LOOP"
   ]
  },
  {
   "cell_type": "markdown",
   "metadata": {},
   "source": [
    "\n",
    "\n",
    "# Q4\n",
    "write a python program to reverse string without using slicing"
   ]
  },
  {
   "cell_type": "raw",
   "metadata": {},
   "source": [
    "Sample TestCase:\n",
    "Input  : Pentagon Space\n",
    "output : ecapS nogatneP"
   ]
  },
  {
   "cell_type": "code",
   "execution_count": 4,
   "metadata": {},
   "outputs": [
    {
     "name": "stdout",
     "output_type": "stream",
     "text": [
      "Pentagon Space\n",
      "ecapS nogatneP\n"
     ]
    }
   ],
   "source": [
    "input4=input()\n",
    "output4=''\n",
    "i=0\n",
    "while len(input4)>i:\n",
    "    output4=input4[i]+output4\n",
    "    i+=1\n",
    "print(output4)    "
   ]
  },
  {
   "cell_type": "markdown",
   "metadata": {},
   "source": [
    "# Q5\n",
    "Write a python program to reverse LAST 5 index from string without using slicing"
   ]
  },
  {
   "cell_type": "raw",
   "metadata": {},
   "source": [
    "Sample TestCase:\n",
    "Input   : Pentagon Space\n",
    "Output  : ecapPentagon S"
   ]
  },
  {
   "cell_type": "code",
   "execution_count": 5,
   "metadata": {},
   "outputs": [
    {
     "name": "stdout",
     "output_type": "stream",
     "text": [
      "Pentagon Space\n",
      "ecapPentagon S\n"
     ]
    }
   ],
   "source": [
    "k=5\n",
    "input5=input()\n",
    "output5=''\n",
    "i=1\n",
    "while  (k)>i:\n",
    "    output5=output5+input5[-i]\n",
    "   # print(output5)\n",
    "    i+=1\n",
    "print(output5+input5[:-k+1])"
   ]
  },
  {
   "cell_type": "markdown",
   "metadata": {},
   "source": [
    "# Q6\n",
    "Write a Python program to remove duplicate values from string"
   ]
  },
  {
   "cell_type": "raw",
   "metadata": {},
   "source": [
    "Sample TestCase:\n",
    "\n",
    "Input   :Pentagon Space\n",
    "Output  :Pentago Spc\n"
   ]
  },
  {
   "cell_type": "code",
   "execution_count": 6,
   "metadata": {},
   "outputs": [
    {
     "name": "stdout",
     "output_type": "stream",
     "text": [
      "Pentagon Space\n",
      "Pentago Spc\n"
     ]
    }
   ],
   "source": [
    "input6=input()\n",
    "output6=''\n",
    "i=0\n",
    "while len(input6)>i:\n",
    "    if input6[i] in output6:\n",
    "        pass\n",
    "    else:\n",
    "        output6+=input6[i]\n",
    "    i+=1\n",
    "print(output6)"
   ]
  },
  {
   "cell_type": "code",
   "execution_count": null,
   "metadata": {},
   "outputs": [],
   "source": []
  }
 ],
 "metadata": {
  "kernelspec": {
   "display_name": "Python 3",
   "language": "python",
   "name": "python3"
  },
  "language_info": {
   "codemirror_mode": {
    "name": "ipython",
    "version": 3
   },
   "file_extension": ".py",
   "mimetype": "text/x-python",
   "name": "python",
   "nbconvert_exporter": "python",
   "pygments_lexer": "ipython3",
   "version": "3.8.5"
  }
 },
 "nbformat": 4,
 "nbformat_minor": 4
}
